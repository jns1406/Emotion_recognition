{
  "nbformat": 4,
  "nbformat_minor": 0,
  "metadata": {
    "accelerator": "GPU",
    "colab": {
      "provenance": []
    },
    "kernelspec": {
      "display_name": "Python 3",
      "language": "python",
      "name": "python3"
    },
    "language_info": {
      "codemirror_mode": {
        "name": "ipython",
        "version": 3
      },
      "file_extension": ".py",
      "mimetype": "text/x-python",
      "name": "python",
      "nbconvert_exporter": "python",
      "pygments_lexer": "ipython3",
      "version": "3.8.3"
    }
  },
  "cells": [
    {
      "cell_type": "markdown",
      "metadata": {
        "id": "sp7D0ktn5eiG"
      },
      "source": [
        "# Emotion Recognition is achieved using the pre-trained RoBERTa transformer from Hugging Face, combined with Gradio. This model provides real-time assessments of emotional levels."
      ]
    },
    {
      "cell_type": "code",
      "metadata": {
        "id": "hHl5SVCFxIhh"
      },
      "source": [
        "# !pip install gradio\n",
        "# !pip install transformers\n"
      ],
      "execution_count": 16,
      "outputs": []
    },
    {
      "cell_type": "code",
      "source": [
        "# ! pip install transformers\n",
        "#! pip install datasets\n"
      ],
      "metadata": {
        "id": "9PJLB9YuD5ch"
      },
      "execution_count": 17,
      "outputs": []
    },
    {
      "cell_type": "code",
      "source": [
        "# Use a pipeline as a high-level helper\n",
        "from transformers import pipeline\n",
        "\n",
        "pipe = pipeline(\"text-classification\", model=\"cardiffnlp/twitter-roberta-base-emotion\")"
      ],
      "metadata": {
        "id": "CuMzpKyHPRgc"
      },
      "execution_count": 18,
      "outputs": []
    },
    {
      "cell_type": "code",
      "source": [
        "from transformers import AutoTokenizer, AutoModelForSequenceClassification\n",
        "import gradio as gr\n",
        "\n",
        "# Load the tokenizer and model\n",
        "tokenizer = AutoTokenizer.from_pretrained(\"cardiffnlp/twitter-roberta-base-emotion\")\n",
        "model = AutoModelForSequenceClassification.from_pretrained(\"cardiffnlp/twitter-roberta-base-emotion\")\n",
        "\n",
        "# Define a function to classify text\n",
        "def classify_text(text):\n",
        "    inputs = tokenizer(text, return_tensors=\"pt\", padding=True, truncation=True)\n",
        "    logits = model(**inputs).logits\n",
        "    probabilities = logits.softmax(dim=1)\n",
        "    emotion_labels = [\"anger\", \"joy\", \"optimism\", \"sadness\"]\n",
        "    prediction_bars = [\n",
        "        f'<div class=\"emotion-bar\">'\n",
        "        f'   <span class=\"emotion-label\">{label}</span>'\n",
        "        f'   <div class=\"bar\" style=\"width: {prob * 100}%\"></div>'\n",
        "        f'</div>'\n",
        "        for label, prob in zip(emotion_labels, probabilities.squeeze())\n",
        "    ]\n",
        "\n",
        "    return '<div class=\"bars\">' + \"\".join(prediction_bars) + '</div>'\n",
        "\n",
        "# Create a Gradio interface\n",
        "iface = gr.Interface(\n",
        "    fn=classify_text,\n",
        "    inputs=gr.inputs.Textbox(lines=2, label=\"Start typing to predict emotions...\"),\n",
        "    outputs=gr.outputs.HTML(),\n",
        "    title=\"RoBERTa Emotion Classification\",\n",
        "    description=\"This interface predicts emotions in real-time as you type.\",\n",
        "    css=\"\"\"\n",
        "    .bars {\n",
        "        display: flex;\n",
        "        justify-content: space-between;\n",
        "        margin-top: 10px;\n",
        "    }\n",
        "\n",
        "    .emotion-bar {\n",
        "        display: flex;\n",
        "        flex-direction: column;\n",
        "        align-items: center;\n",
        "        width: 25%;\n",
        "    }\n",
        "\n",
        "    .emotion-label {\n",
        "        font-weight: bold;\n",
        "        margin-bottom: 5px;\n",
        "    }\n",
        "\n",
        "    .bar {\n",
        "        height: 20px;\n",
        "        background-color: #3498db;\n",
        "        width: 0;\n",
        "        transition: width 0.5s;\n",
        "    }\n",
        "    \"\"\"\n",
        ")\n",
        "\n",
        "# Launch the interface\n",
        "iface.launch(share=True)\n"
      ],
      "metadata": {
        "colab": {
          "base_uri": "https://localhost:8080/",
          "height": 719
        },
        "id": "xKrJUPBla13v",
        "outputId": "f9efec5f-f1ed-42d2-d0f1-391d6398bd68"
      },
      "execution_count": 19,
      "outputs": [
        {
          "output_type": "stream",
          "name": "stderr",
          "text": [
            "<ipython-input-19-9ecea680b0f8>:27: GradioDeprecationWarning: Usage of gradio.inputs is deprecated, and will not be supported in the future, please import your component from gradio.components\n",
            "  inputs=gr.inputs.Textbox(lines=2, label=\"Start typing to predict emotions...\"),\n",
            "<ipython-input-19-9ecea680b0f8>:27: GradioDeprecationWarning: `optional` parameter is deprecated, and it has no effect\n",
            "  inputs=gr.inputs.Textbox(lines=2, label=\"Start typing to predict emotions...\"),\n",
            "<ipython-input-19-9ecea680b0f8>:27: GradioDeprecationWarning: `numeric` parameter is deprecated, and it has no effect\n",
            "  inputs=gr.inputs.Textbox(lines=2, label=\"Start typing to predict emotions...\"),\n"
          ]
        },
        {
          "output_type": "stream",
          "name": "stdout",
          "text": [
            "Colab notebook detected. To show errors in colab notebook, set debug=True in launch()\n",
            "Running on public URL: https://89dbeca4927c75132b.gradio.live\n",
            "\n",
            "This share link expires in 72 hours. For free permanent hosting and GPU upgrades, run `gradio deploy` from Terminal to deploy to Spaces (https://huggingface.co/spaces)\n"
          ]
        },
        {
          "output_type": "display_data",
          "data": {
            "text/plain": [
              "<IPython.core.display.HTML object>"
            ],
            "text/html": [
              "<div><iframe src=\"https://89dbeca4927c75132b.gradio.live\" width=\"100%\" height=\"500\" allow=\"autoplay; camera; microphone; clipboard-read; clipboard-write;\" frameborder=\"0\" allowfullscreen></iframe></div>"
            ]
          },
          "metadata": {}
        },
        {
          "output_type": "execute_result",
          "data": {
            "text/plain": []
          },
          "metadata": {},
          "execution_count": 19
        }
      ]
    }
  ]
}